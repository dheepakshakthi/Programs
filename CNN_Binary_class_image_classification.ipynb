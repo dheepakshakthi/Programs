{
 "cells": [
  {
   "cell_type": "markdown",
   "id": "ce1d9aed",
   "metadata": {},
   "source": [
    "<h1>Binary class image classification using CNN</h1>"
   ]
  },
  {
   "cell_type": "code",
   "execution_count": 1,
   "id": "4245a466",
   "metadata": {},
   "outputs": [
    {
     "name": "stderr",
     "output_type": "stream",
     "text": [
      "d:\\college docs\\2nd year internship\\cnn\\.venv\\Lib\\site-packages\\tqdm\\auto.py:21: TqdmWarning: IProgress not found. Please update jupyter and ipywidgets. See https://ipywidgets.readthedocs.io/en/stable/user_install.html\n",
      "  from .autonotebook import tqdm as notebook_tqdm\n"
     ]
    }
   ],
   "source": [
    "from datasets import load_dataset\n",
    "import pandas as pd\n",
    "import random\n",
    "import torch\n",
    "from datasets import DatasetDict\n",
    "from torchvision import transforms\n",
    "from torch.utils.data import DataLoader\n",
    "from torch.optim import Adam\n",
    "import torch.nn as nn\n",
    "import torch.nn.functional as F"
   ]
  },
  {
   "cell_type": "code",
   "execution_count": 2,
   "id": "44848846",
   "metadata": {},
   "outputs": [
    {
     "data": {
      "text/plain": [
       "device(type='cuda')"
      ]
     },
     "execution_count": 2,
     "metadata": {},
     "output_type": "execute_result"
    }
   ],
   "source": [
    "device = torch.device(\"cuda\" if torch.cuda.is_available() else \"cpu\")\n",
    "device"
   ]
  },
  {
   "cell_type": "code",
   "execution_count": 3,
   "id": "15be8200",
   "metadata": {},
   "outputs": [
    {
     "name": "stdout",
     "output_type": "stream",
     "text": [
      "<class 'pandas.core.frame.DataFrame'>\n",
      "RangeIndex: 2100 entries, 0 to 2099\n",
      "Data columns (total 3 columns):\n",
      " #   Column                  Non-Null Count  Dtype \n",
      "---  ------                  --------------  ----- \n",
      " 0   image                   2100 non-null   object\n",
      " 1   target                  2100 non-null   int64 \n",
      " 2   evaluation_predictions  2100 non-null   object\n",
      "dtypes: int64(1), object(2)\n",
      "memory usage: 49.3+ KB\n"
     ]
    }
   ],
   "source": [
    "ds = load_dataset(\"autoevaluate/autoeval-staging-eval-project-sasha__dog-food-8a6c4abe-13775897\")\n",
    "df = pd.DataFrame(ds['train'])\n",
    "df.info()"
   ]
  },
  {
   "cell_type": "code",
   "execution_count": 4,
   "id": "969dee94",
   "metadata": {},
   "outputs": [
    {
     "data": {
      "text/plain": [
       "1"
      ]
     },
     "execution_count": 4,
     "metadata": {},
     "output_type": "execute_result"
    }
   ],
   "source": [
    "random_idx = random.randint(0, len(ds['train']) - 1)\n",
    "sample = ds['train'][random_idx]\n",
    "sample['image'].show()\n",
    "sample['target']"
   ]
  },
  {
   "cell_type": "code",
   "execution_count": null,
   "id": "7050a377",
   "metadata": {},
   "outputs": [
    {
     "name": "stdout",
     "output_type": "stream",
     "text": [
      "Epoch 1/10, Loss: 0.6838386580348015\n",
      "Epoch 2/10, Loss: 0.4268416464328766\n",
      "Epoch 3/10, Loss: 0.32798054739832877\n",
      "Epoch 4/10, Loss: 0.28277087714523075\n",
      "Epoch 5/10, Loss: 0.2024968745186925\n",
      "Epoch 6/10, Loss: 0.15718317190185188\n",
      "Epoch 7/10, Loss: 0.13466993924230336\n",
      "Epoch 8/10, Loss: 0.11810165862552821\n",
      "Epoch 9/10, Loss: 0.06341828783042729\n",
      "Epoch 10/10, Loss: 0.04269459063652903\n"
     ]
    }
   ],
   "source": [
    "train_test_split = ds['train'].train_test_split(test_size=0.4, seed=42)\n",
    "\n",
    "validation_test_split = train_test_split['test'].train_test_split(test_size=0.5, seed=42)\n",
    "\n",
    "split_ds = DatasetDict({\n",
    "    'train': train_test_split['train'],\n",
    "    'validation': validation_test_split['train'],\n",
    "    'test': validation_test_split['test']\n",
    "})\n",
    "\n",
    "class bccnn(nn.Module):\n",
    "\tdef __init__(self):\n",
    "\t\tsuper(bccnn, self).__init__()\n",
    "\t\tself.conv1 = nn.Conv2d(in_channels=3, out_channels=32, kernel_size=3, stride=1, padding=1)\n",
    "\t\tself.conv2 = nn.Conv2d(in_channels=32, out_channels=64, kernel_size=3, stride=1, padding=1)\n",
    "\t\tself.pool = nn.MaxPool2d(kernel_size=2, stride=2)\n",
    "\t\tself.fc1 = nn.Linear(64 * 32 * 32, 128)  \n",
    "\t\tself.fc2 = nn.Linear(128, 1)  \n",
    "\n",
    "\tdef forward(self, x):\n",
    "\t\tx = self.pool(F.relu(self.conv1(x)))\n",
    "\t\tx = self.pool(F.relu(self.conv2(x)))\n",
    "\t\tx = x.view(x.size(0), -1)  \n",
    "\t\tx = F.relu(self.fc1(x))\n",
    "\t\tx = torch.sigmoid(self.fc2(x))  \n",
    "\t\treturn x\n",
    "\n",
    "model = bccnn().to(device)\n",
    "\n",
    "class cd(torch.utils.data.Dataset):\n",
    "\tdef __init__(self, dataset, transform=None):\n",
    "\t\tself.transform = transform\n",
    "\t\tself.dataset = dataset\n",
    "\n",
    "\tdef __len__(self):\n",
    "\t\treturn len(self.dataset)\n",
    "\n",
    "\tdef __getitem__(self, idx):\n",
    "\t\timage = self.dataset[idx]['image']\n",
    "\t\ttarget = self.dataset[idx]['target']\n",
    "\t\tif self.transform:\n",
    "\t\t\timage = self.transform(image)\n",
    "\t\treturn image, torch.tensor(target, dtype=torch.float32)\n",
    "\n",
    "transform = transforms.Compose([\n",
    "\ttransforms.Resize((128, 128)),\n",
    "\ttransforms.ToTensor()\n",
    "])\n",
    "\n",
    "train_dataset = cd(train_test_split['train'], transform=transform)\n",
    "train_loader = DataLoader(train_dataset, batch_size=32, shuffle=True)\n",
    "\n",
    "criterion = nn.BCELoss() \n",
    "optimizer = Adam(model.parameters(), lr=0.001)\n",
    "\n",
    "model.train()\n",
    "epochs = 10\n",
    "for epoch in range(epochs):\n",
    "\trunning_loss = 0.0\n",
    "\tfor images, targets in train_loader:\n",
    "\t\timages, targets = images.to(device), targets.to(device)\n",
    "\n",
    "\t\toutputs = model(images)\n",
    "\t\tloss = criterion(outputs.squeeze(), targets)\n",
    "\n",
    "\t\toptimizer.zero_grad()\n",
    "\t\tloss.backward()\n",
    "\t\toptimizer.step()\n",
    "\n",
    "\t\trunning_loss += loss.item()\n",
    "\n",
    "\tprint(f\"Epoch {epoch+1}/{epochs}, Loss: {running_loss/len(train_loader)}\")"
   ]
  },
  {
   "cell_type": "code",
   "execution_count": 18,
   "id": "2173a7f8",
   "metadata": {},
   "outputs": [
    {
     "name": "stdout",
     "output_type": "stream",
     "text": [
      "This is a food image.\n",
      "Predicted Probability: 0.9916180968284607\n",
      "Predicted Class: This is a food image.\n"
     ]
    }
   ],
   "source": [
    "random_test_idx = random.randint(0, len(validation_test_split['test']) - 1)\n",
    "\n",
    "test_sample = validation_test_split['test'][random_test_idx]\n",
    "test_image = test_sample['image']\n",
    "test_target = test_sample['target']\n",
    "\n",
    "test_image_tensor = transform(test_image).unsqueeze(0).to(device)\n",
    "\n",
    "model.eval()\n",
    "\n",
    "with torch.no_grad():\n",
    "    prediction = model(test_image_tensor).item()\n",
    "\n",
    "test_image.show()\n",
    "\n",
    "if test_target == 1:\n",
    "    print(\"This is a food image.\")\n",
    "else:\n",
    "    print(\"This is a Dog image.\")\n",
    "\n",
    "print(f\"Predicted Probability: {prediction}\")\n",
    "print(f\"Predicted Class: {\"This is a food image.\" if prediction >= 0.5 else \"This is a Dog image.\"}\")"
   ]
  },
  {
   "cell_type": "markdown",
   "id": "c375d824",
   "metadata": {},
   "source": [
    "to test the program with our own images:"
   ]
  },
  {
   "cell_type": "code",
   "execution_count": 19,
   "id": "4a17aa0b",
   "metadata": {},
   "outputs": [
    {
     "name": "stdout",
     "output_type": "stream",
     "text": [
      "Predicted Probability: 0.017795270308852196\n",
      "Predicted Class: This is a Dog image.\n"
     ]
    }
   ],
   "source": [
    "from PIL import Image\n",
    "\n",
    "test_image = Image.open(\"download.jpg\") \n",
    "\n",
    "test_image_tensor = transform(test_image).unsqueeze(0).to(device)\n",
    "\n",
    "model.eval()\n",
    "\n",
    "with torch.no_grad():\n",
    "    prediction = model(test_image_tensor).item()\n",
    "\n",
    "test_image.show()\n",
    "\n",
    "print(f\"Predicted Probability: {prediction}\")\n",
    "print(f\"Predicted Class: {\"This is a food image.\" if prediction >= 0.5 else \"This is a Dog image.\"}\")"
   ]
  },
  {
   "cell_type": "code",
   "execution_count": null,
   "id": "8dcb16a3",
   "metadata": {},
   "outputs": [],
   "source": []
  }
 ],
 "metadata": {
  "kernelspec": {
   "display_name": ".venv",
   "language": "python",
   "name": "python3"
  },
  "language_info": {
   "codemirror_mode": {
    "name": "ipython",
    "version": 3
   },
   "file_extension": ".py",
   "mimetype": "text/x-python",
   "name": "python",
   "nbconvert_exporter": "python",
   "pygments_lexer": "ipython3",
   "version": "3.13.3"
  }
 },
 "nbformat": 4,
 "nbformat_minor": 5
}
